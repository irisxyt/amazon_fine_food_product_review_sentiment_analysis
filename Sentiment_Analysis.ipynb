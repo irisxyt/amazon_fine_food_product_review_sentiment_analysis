{
 "cells": [
  {
   "cell_type": "markdown",
   "metadata": {
    "id": "XlpkGI_IXusD"
   },
   "source": [
    "## **SENTIMENT ANALYSIS** "
   ]
  },
  {
   "cell_type": "code",
   "execution_count": 1,
   "metadata": {
    "colab": {
     "base_uri": "https://localhost:8080/"
    },
    "id": "toavieW3XusI",
    "outputId": "ca18f079-46e5-457f-bd3f-5cf11b1a7375"
   },
   "outputs": [
    {
     "name": "stdout",
     "output_type": "stream",
     "text": [
      "Requirement already satisfied: numpy in c:\\users\\xiong\\anaconda3\\lib\\site-packages (1.20.3)\n",
      "Requirement already satisfied: pandas in c:\\users\\xiong\\anaconda3\\lib\\site-packages (1.3.4)\n",
      "Requirement already satisfied: numpy>=1.17.3 in c:\\users\\xiong\\anaconda3\\lib\\site-packages (from pandas) (1.20.3)\n",
      "Requirement already satisfied: python-dateutil>=2.7.3 in c:\\users\\xiong\\anaconda3\\lib\\site-packages (from pandas) (2.8.2)\n",
      "Requirement already satisfied: pytz>=2017.3 in c:\\users\\xiong\\anaconda3\\lib\\site-packages (from pandas) (2021.3)\n",
      "Requirement already satisfied: six>=1.5 in c:\\users\\xiong\\anaconda3\\lib\\site-packages (from python-dateutil>=2.7.3->pandas) (1.16.0)\n",
      "Requirement already satisfied: nltk in c:\\users\\xiong\\anaconda3\\lib\\site-packages (3.6.5)\n",
      "Requirement already satisfied: click in c:\\users\\xiong\\anaconda3\\lib\\site-packages (from nltk) (8.0.3)\n",
      "Requirement already satisfied: joblib in c:\\users\\xiong\\anaconda3\\lib\\site-packages (from nltk) (1.1.0)\n",
      "Requirement already satisfied: regex>=2021.8.3 in c:\\users\\xiong\\anaconda3\\lib\\site-packages (from nltk) (2021.8.3)\n",
      "Requirement already satisfied: tqdm in c:\\users\\xiong\\anaconda3\\lib\\site-packages (from nltk) (4.62.3)\n",
      "Requirement already satisfied: colorama in c:\\users\\xiong\\anaconda3\\lib\\site-packages (from click->nltk) (0.4.4)\n",
      "Requirement already satisfied: html.parser in c:\\users\\xiong\\anaconda3\\lib\\site-packages (0.2)\n",
      "Requirement already satisfied: ply in c:\\users\\xiong\\anaconda3\\lib\\site-packages (from html.parser) (3.11)\n",
      "Requirement already satisfied: pattern3 in c:\\users\\xiong\\anaconda3\\lib\\site-packages (3.0.0)\n",
      "Requirement already satisfied: docx in c:\\users\\xiong\\anaconda3\\lib\\site-packages (from pattern3) (0.2.4)\n",
      "Requirement already satisfied: feedparser in c:\\users\\xiong\\anaconda3\\lib\\site-packages (from pattern3) (6.0.8)\n",
      "Requirement already satisfied: pdfminer3k in c:\\users\\xiong\\anaconda3\\lib\\site-packages (from pattern3) (1.3.4)\n",
      "Requirement already satisfied: beautifulsoup4 in c:\\users\\xiong\\anaconda3\\lib\\site-packages (from pattern3) (4.10.0)\n",
      "Requirement already satisfied: pdfminer.six in c:\\users\\xiong\\anaconda3\\lib\\site-packages (from pattern3) (20220319)\n",
      "Requirement already satisfied: simplejson in c:\\users\\xiong\\anaconda3\\lib\\site-packages (from pattern3) (3.17.6)\n",
      "Requirement already satisfied: cherrypy in c:\\users\\xiong\\anaconda3\\lib\\site-packages (from pattern3) (18.6.1)\n",
      "Requirement already satisfied: soupsieve>1.2 in c:\\users\\xiong\\anaconda3\\lib\\site-packages (from beautifulsoup4->pattern3) (2.2.1)\n",
      "Requirement already satisfied: zc.lockfile in c:\\users\\xiong\\anaconda3\\lib\\site-packages (from cherrypy->pattern3) (2.0)\n",
      "Requirement already satisfied: portend>=2.1.1 in c:\\users\\xiong\\anaconda3\\lib\\site-packages (from cherrypy->pattern3) (3.1.0)\n",
      "Requirement already satisfied: pywin32>=227 in c:\\users\\xiong\\anaconda3\\lib\\site-packages (from cherrypy->pattern3) (228)\n",
      "Requirement already satisfied: jaraco.collections in c:\\users\\xiong\\anaconda3\\lib\\site-packages (from cherrypy->pattern3) (3.5.1)\n",
      "Requirement already satisfied: more-itertools in c:\\users\\xiong\\anaconda3\\lib\\site-packages (from cherrypy->pattern3) (8.10.0)\n",
      "Requirement already satisfied: cheroot>=8.2.1 in c:\\users\\xiong\\anaconda3\\lib\\site-packages (from cherrypy->pattern3) (8.6.0)\n",
      "Requirement already satisfied: jaraco.functools in c:\\users\\xiong\\anaconda3\\lib\\site-packages (from cheroot>=8.2.1->cherrypy->pattern3) (3.5.0)\n",
      "Requirement already satisfied: six>=1.11.0 in c:\\users\\xiong\\anaconda3\\lib\\site-packages (from cheroot>=8.2.1->cherrypy->pattern3) (1.16.0)\n",
      "Requirement already satisfied: tempora>=1.8 in c:\\users\\xiong\\anaconda3\\lib\\site-packages (from portend>=2.1.1->cherrypy->pattern3) (5.0.1)\n",
      "Requirement already satisfied: pytz in c:\\users\\xiong\\anaconda3\\lib\\site-packages (from tempora>=1.8->portend>=2.1.1->cherrypy->pattern3) (2021.3)\n",
      "Requirement already satisfied: lxml in c:\\users\\xiong\\anaconda3\\lib\\site-packages (from docx->pattern3) (4.6.3)\n",
      "Requirement already satisfied: Pillow>=2.0 in c:\\users\\xiong\\anaconda3\\lib\\site-packages (from docx->pattern3) (8.4.0)\n",
      "Requirement already satisfied: sgmllib3k in c:\\users\\xiong\\anaconda3\\lib\\site-packages (from feedparser->pattern3) (1.0.0)\n",
      "Requirement already satisfied: jaraco.classes in c:\\users\\xiong\\anaconda3\\lib\\site-packages (from jaraco.collections->cherrypy->pattern3) (3.2.1)\n",
      "Requirement already satisfied: jaraco.text in c:\\users\\xiong\\anaconda3\\lib\\site-packages (from jaraco.collections->cherrypy->pattern3) (3.7.0)\n",
      "Requirement already satisfied: jaraco.context>=4.1 in c:\\users\\xiong\\anaconda3\\lib\\site-packages (from jaraco.text->jaraco.collections->cherrypy->pattern3) (4.1.1)\n",
      "Requirement already satisfied: chardet in c:\\users\\xiong\\anaconda3\\lib\\site-packages (from pdfminer.six->pattern3) (4.0.0)\n",
      "Requirement already satisfied: cryptography in c:\\users\\xiong\\anaconda3\\lib\\site-packages (from pdfminer.six->pattern3) (3.4.8)\n",
      "Requirement already satisfied: cffi>=1.12 in c:\\users\\xiong\\anaconda3\\lib\\site-packages (from cryptography->pdfminer.six->pattern3) (1.14.6)\n",
      "Requirement already satisfied: pycparser in c:\\users\\xiong\\anaconda3\\lib\\site-packages (from cffi>=1.12->cryptography->pdfminer.six->pattern3) (2.20)\n",
      "Requirement already satisfied: ply in c:\\users\\xiong\\anaconda3\\lib\\site-packages (from pdfminer3k->pattern3) (3.11)\n",
      "Requirement already satisfied: setuptools in c:\\users\\xiong\\anaconda3\\lib\\site-packages (from zc.lockfile->cherrypy->pattern3) (58.0.4)\n",
      "Requirement already satisfied: pyLDAvis in c:\\users\\xiong\\anaconda3\\lib\\site-packages (3.3.1)\n",
      "Requirement already satisfied: pandas>=1.2.0 in c:\\users\\xiong\\anaconda3\\lib\\site-packages (from pyLDAvis) (1.3.4)\n",
      "Requirement already satisfied: gensim in c:\\users\\xiong\\anaconda3\\lib\\site-packages (from pyLDAvis) (4.1.2)\n",
      "Requirement already satisfied: numpy>=1.20.0 in c:\\users\\xiong\\anaconda3\\lib\\site-packages (from pyLDAvis) (1.20.3)\n",
      "Requirement already satisfied: setuptools in c:\\users\\xiong\\anaconda3\\lib\\site-packages (from pyLDAvis) (58.0.4)\n",
      "Requirement already satisfied: funcy in c:\\users\\xiong\\anaconda3\\lib\\site-packages (from pyLDAvis) (1.17)\n",
      "Requirement already satisfied: jinja2 in c:\\users\\xiong\\anaconda3\\lib\\site-packages (from pyLDAvis) (2.11.3)\n",
      "Requirement already satisfied: sklearn in c:\\users\\xiong\\anaconda3\\lib\\site-packages (from pyLDAvis) (0.0)\n",
      "Requirement already satisfied: scipy in c:\\users\\xiong\\anaconda3\\lib\\site-packages (from pyLDAvis) (1.7.1)\n",
      "Requirement already satisfied: future in c:\\users\\xiong\\anaconda3\\lib\\site-packages (from pyLDAvis) (0.18.2)\n",
      "Requirement already satisfied: joblib in c:\\users\\xiong\\anaconda3\\lib\\site-packages (from pyLDAvis) (1.1.0)\n",
      "Requirement already satisfied: scikit-learn in c:\\users\\xiong\\anaconda3\\lib\\site-packages (from pyLDAvis) (0.24.2)\n",
      "Requirement already satisfied: numexpr in c:\\users\\xiong\\anaconda3\\lib\\site-packages (from pyLDAvis) (2.7.3)\n",
      "Requirement already satisfied: pytz>=2017.3 in c:\\users\\xiong\\anaconda3\\lib\\site-packages (from pandas>=1.2.0->pyLDAvis) (2021.3)\n",
      "Requirement already satisfied: python-dateutil>=2.7.3 in c:\\users\\xiong\\anaconda3\\lib\\site-packages (from pandas>=1.2.0->pyLDAvis) (2.8.2)\n",
      "Requirement already satisfied: six>=1.5 in c:\\users\\xiong\\anaconda3\\lib\\site-packages (from python-dateutil>=2.7.3->pandas>=1.2.0->pyLDAvis) (1.16.0)\n",
      "Requirement already satisfied: Cython==0.29.23 in c:\\users\\xiong\\anaconda3\\lib\\site-packages (from gensim->pyLDAvis) (0.29.23)\n",
      "Requirement already satisfied: smart-open>=1.8.1 in c:\\users\\xiong\\anaconda3\\lib\\site-packages (from gensim->pyLDAvis) (5.2.1)\n",
      "Requirement already satisfied: MarkupSafe>=0.23 in c:\\users\\xiong\\anaconda3\\lib\\site-packages (from jinja2->pyLDAvis) (1.1.1)\n",
      "Requirement already satisfied: threadpoolctl>=2.0.0 in c:\\users\\xiong\\anaconda3\\lib\\site-packages (from scikit-learn->pyLDAvis) (2.2.0)\n"
     ]
    },
    {
     "name": "stderr",
     "output_type": "stream",
     "text": [
      "[nltk_data] Downloading package stopwords to\n",
      "[nltk_data]     C:\\Users\\xiong\\AppData\\Roaming\\nltk_data...\n",
      "[nltk_data]   Package stopwords is already up-to-date!\n",
      "[nltk_data] Downloading package punkt to\n",
      "[nltk_data]     C:\\Users\\xiong\\AppData\\Roaming\\nltk_data...\n",
      "[nltk_data]   Package punkt is already up-to-date!\n",
      "[nltk_data] Downloading package averaged_perceptron_tagger to\n",
      "[nltk_data]     C:\\Users\\xiong\\AppData\\Roaming\\nltk_data...\n",
      "[nltk_data]   Package averaged_perceptron_tagger is already up-to-\n",
      "[nltk_data]       date!\n",
      "[nltk_data] Downloading package wordnet to\n",
      "[nltk_data]     C:\\Users\\xiong\\AppData\\Roaming\\nltk_data...\n",
      "[nltk_data]   Package wordnet is already up-to-date!\n"
     ]
    },
    {
     "name": "stdout",
     "output_type": "stream",
     "text": [
      "Original:   <p>The circus dog in a plissé skirt jumped over Python who wasn't that large, just 3 feet long.</p>\n",
      "Processed:  ['<', 'p', '>', 'The', 'circus', 'dog', 'in', 'a', 'plissé', 'skirt', 'jumped', 'over', 'Python', 'who', 'was', \"n't\", 'that', 'large', ',', 'just', '3', 'feet', 'long.', '<', '/p', '>']\n",
      "Original:   <p>The circus dog in a plissé skirt jumped over Python who wasn't that large, just 3 feet long.</p>\n",
      "Processed:  <p>The circus dog in a plissé skirt jumped over Python who was not that large, just 3 feet long.</p>\n",
      "Original:   <p>The circus dog in a plissé skirt jumped over Python who wasn't that large, just 3 feet long.</p>\n",
      "Processed:  [('<', 'a'), ('p', 'n'), ('>', 'v'), ('the', None), ('circus', 'n'), ('dog', 'n'), ('in', None), ('a', None), ('plissé', 'n'), ('skirt', 'n'), ('jumped', 'v'), ('over', None), ('python', 'n'), ('who', None), ('was', 'v'), (\"n't\", 'r'), ('that', None), ('large', 'a'), (',', None), ('just', 'r'), ('3', None), ('feet', 'n'), ('long.', 'a'), ('<', 'n'), ('/p', 'n'), ('>', 'n')]\n",
      "Original:   <p>The circus dog in a plissé skirt jumped over Python who wasn't that large, just 3 feet long.</p>\n",
      "Processed:  < p > the circus dog in a plissé skirt jump over python who be n't that large , just 3 foot long. < /p >\n",
      "Original:   <p>The circus dog in a plissé skirt jumped over Python who wasn't that large, just 3 feet long.</p>\n",
      "Processed:    p   The circus dog in a plissé skirt jumped over Python who was n t that large   just 3 feet long     p  \n",
      "Original:   <p>The circus dog in a plissé skirt jumped over Python who wasn't that large, just 3 feet long.</p>\n",
      "Processed:  < p > The circus dog plissé skirt jumped Python n't large , 3 feet long. < /p >\n",
      "Original:   <p>The circus dog in a plissé skirt jumped over Python who wasn't that large, just 3 feet long.</p>\n",
      "Processed:  p The circus dog in a plissé skirt jumped over Python who was n't that large just feet long. /p\n",
      "Original:   <p>The circus dog in a plissé skirt jumped over Python who wasn't that large, just 3 feet long.</p>\n",
      "Processed:  The circus dog in a plissé skirt jumped over Python who wasn't that large, just 3 feet long.\n",
      "Original:   <p>The circus dog in a plissé skirt jumped over Python who wasn't that large, just 3 feet long.</p>\n",
      "Processed:  <p>The circus dog in a plisse skirt jumped over Python who wasn't that large, just 3 feet long.</p>\n"
     ]
    }
   ],
   "source": [
    "#packages needed\n",
    "\n",
    "#ignore warnings about future changes in functions as they take too much space\n",
    "import warnings\n",
    "warnings.simplefilter(action='ignore', category=FutureWarning)\n",
    "warnings.filterwarnings(\"ignore\", category=DeprecationWarning)\n",
    "\n",
    "#the module 'sys' allows istalling module from inside Jupyter\n",
    "import sys\n",
    "\n",
    "!{sys.executable} -m pip install numpy\n",
    "import numpy as np \n",
    "\n",
    "!{sys.executable} -m pip install pandas\n",
    "import pandas as pd\n",
    "\n",
    "#Natrual Language ToolKit (NLTK)\n",
    "!{sys.executable} -m pip install nltk\n",
    "import nltk\n",
    "\n",
    "#text normalization function\n",
    "%run ./Text_Normalization_Function.ipynb\n",
    "\n",
    "#ignore warnings about future changes in functions as they take too much space\n",
    "warnings.simplefilter(action='ignore', category=FutureWarning)\n",
    "warnings.filterwarnings(\"ignore\", category=DeprecationWarning)"
   ]
  },
  {
   "cell_type": "markdown",
   "metadata": {
    "id": "jpkWsJ3IXusK"
   },
   "source": [
    "### **Dataset**\n",
    "\n"
   ]
  },
  {
   "cell_type": "code",
   "execution_count": 9,
   "metadata": {},
   "outputs": [
    {
     "name": "stderr",
     "output_type": "stream",
     "text": [
      "C:\\Users\\xiong\\AppData\\Local\\Temp/ipykernel_41364/3526566498.py:9: SettingWithCopyWarning: \n",
      "A value is trying to be set on a copy of a slice from a DataFrame\n",
      "\n",
      "See the caveats in the documentation: https://pandas.pydata.org/pandas-docs/stable/user_guide/indexing.html#returning-a-view-versus-a-copy\n",
      "  time_s['datestamp']=time_s.apply(datetime.fromtimestamp)\n"
     ]
    }
   ],
   "source": [
    "# filter data based on time: we only extract data in recent 3 years\n",
    "import pandas as pd\n",
    "from datetime import datetime \n",
    "import pytz\n",
    "df = pd.read_csv (\"Reviews.csv\")\n",
    "df=pd.DataFrame(df)\n",
    "df[\"Polarity\"]=np.where(df[\"Score\"]>3, \"positive\", \"negtive\")\n",
    "time_s=df.loc[:,\"Time\"]\n",
    "time_s['datestamp']=time_s.apply(datetime.fromtimestamp)\n",
    "\n",
    "time_y=pd.DataFrame(time_s[\"datestamp\"])\n",
    "time_s['year']=time_y.applymap(lambda x:x.date().year)\n",
    "df['year']=time_s[\"year\"]"
   ]
  },
  {
   "cell_type": "code",
   "execution_count": 10,
   "metadata": {},
   "outputs": [
    {
     "data": {
      "text/plain": [
       "<bound method NDFrame.head of             Id   ProductId          UserId                    ProfileName  \\\n",
       "0            1  B001E4KFG0  A3SGXH7AUHU8GW                     delmartian   \n",
       "1            2  B00813GRG4  A1D87F6ZCVE5NK                         dll pa   \n",
       "3            4  B000UA0QIQ  A395BORC6FGVXV                           Karl   \n",
       "4            5  B006K2ZZ7K  A1UQRSCLF8GW1T  Michael D. Bigham \"M. Wassir\"   \n",
       "5            6  B006K2ZZ7K   ADT0SRK1MGOEU                 Twoapennything   \n",
       "...        ...         ...             ...                            ...   \n",
       "568449  568450  B001EO7N10  A28KG5XORO54AY               Lettie D. Carter   \n",
       "568450  568451  B003S1WTCU  A3I8AFVPEE8KI5                      R. Sawyer   \n",
       "568451  568452  B004I613EE  A121AA1GQV751Z                  pksd \"pk_007\"   \n",
       "568452  568453  B004I613EE   A3IBEVCTXKNOH        Kathy A. Welch \"katwel\"   \n",
       "568453  568454  B001LR2CU2  A3LGQPJCZVL9UC                       srfell17   \n",
       "\n",
       "        HelpfulnessNumerator  HelpfulnessDenominator  Score        Time  \\\n",
       "0                          1                       1      5  1303862400   \n",
       "1                          0                       0      1  1346976000   \n",
       "3                          3                       3      2  1307923200   \n",
       "4                          0                       0      5  1350777600   \n",
       "5                          0                       0      4  1342051200   \n",
       "...                      ...                     ...    ...         ...   \n",
       "568449                     0                       0      5  1299628800   \n",
       "568450                     0                       0      2  1331251200   \n",
       "568451                     2                       2      5  1329782400   \n",
       "568452                     1                       1      5  1331596800   \n",
       "568453                     0                       0      5  1338422400   \n",
       "\n",
       "                                   Summary  \\\n",
       "0                    Good Quality Dog Food   \n",
       "1                        Not as Advertised   \n",
       "3                           Cough Medicine   \n",
       "4                              Great taffy   \n",
       "5                               Nice Taffy   \n",
       "...                                    ...   \n",
       "568449                 Will not do without   \n",
       "568450                        disappointed   \n",
       "568451            Perfect for our maltipoo   \n",
       "568452  Favorite Training and reward treat   \n",
       "568453                         Great Honey   \n",
       "\n",
       "                                                     Text  Polarity  year  \n",
       "0       I have bought several of the Vitality canned d...  positive  2011  \n",
       "1       Product arrived labeled as Jumbo Salted Peanut...   negtive  2012  \n",
       "3       If you are looking for the secret ingredient i...   negtive  2011  \n",
       "4       Great taffy at a great price.  There was a wid...  positive  2012  \n",
       "5       I got a wild hair for taffy and ordered this f...  positive  2012  \n",
       "...                                                   ...       ...   ...  \n",
       "568449  Great for sesame chicken..this is a good if no...  positive  2011  \n",
       "568450  I'm disappointed with the flavor. The chocolat...   negtive  2012  \n",
       "568451  These stars are small, so you can give 10-15 o...  positive  2012  \n",
       "568452  These are the BEST treats for training and rew...  positive  2012  \n",
       "568453  I am very satisfied ,product is as advertised,...  positive  2012  \n",
       "\n",
       "[447702 rows x 12 columns]>"
      ]
     },
     "execution_count": 10,
     "metadata": {},
     "output_type": "execute_result"
    }
   ],
   "source": [
    "certain_y=2009\n",
    "review=df.loc[df['year']>certain_y]\n",
    "review.head"
   ]
  },
  {
   "cell_type": "code",
   "execution_count": 32,
   "metadata": {},
   "outputs": [],
   "source": [
    "reviews=review[['Text','Polarity']]\n",
    "train_data = reviews.sample(n=1000,replace=False)\n",
    "rest_reviews = reviews.drop(train_data.index)\n",
    "test_data = rest_reviews.sample(n=10000,replace=False)# change to 10000"
   ]
  },
  {
   "cell_type": "code",
   "execution_count": 33,
   "metadata": {},
   "outputs": [
    {
     "data": {
      "text/plain": [
       "447702"
      ]
     },
     "execution_count": 33,
     "metadata": {},
     "output_type": "execute_result"
    }
   ],
   "source": [
    "\n",
    "len(reviews)"
   ]
  },
  {
   "cell_type": "code",
   "execution_count": 35,
   "metadata": {},
   "outputs": [
    {
     "data": {
      "text/plain": [
       "10000"
      ]
     },
     "execution_count": 35,
     "metadata": {},
     "output_type": "execute_result"
    }
   ],
   "source": [
    "test_data"
   ]
  },
  {
   "cell_type": "markdown",
   "metadata": {
    "id": "Yh_0X3cPXusL"
   },
   "source": [
    "Load the food reviews data:"
   ]
  },
  {
   "cell_type": "code",
   "execution_count": 36,
   "metadata": {
    "colab": {
     "base_uri": "https://localhost:8080/"
    },
    "id": "oy-3M36nXusL",
    "outputId": "6be8ebe4-e0a3-40d8-9800-837180f99b3f"
   },
   "outputs": [
    {
     "name": "stdout",
     "output_type": "stream",
     "text": [
      "Dimensions for test data: (10000, 2)\n",
      "Dimensions for training data: (1000, 2) \n",
      "\n",
      "First 5 rows in test dataset: \n",
      "                                                      Text  Polarity\n",
      "110492  My husband loves these. They are easy to make ...  positive\n",
      "367763  This is by far the best coconut oil ever.....i...  positive\n",
      "176564  My toddler loves this stuff!  It's a great way...  positive\n",
      "179626  These are not soft shortbread cookies but Krun...  positive\n",
      "457517  I fell in love with Glutino stick pretzels whe...  positive \n",
      "\n",
      "First 5 rows in  training dataset: \n",
      "                                                      Text  Polarity\n",
      "166004  No calories, and they taste pretty good.  What...  positive\n",
      "249383  I ordered these cookies because they looked & ...  positive\n",
      "79048   Just now poured up some great wine. This type ...  positive\n",
      "337884  This is all I feed my dogs because of the qual...  positive\n",
      "523637  I prefer tea that is not steeped too long. Thi...  positive\n"
     ]
    }
   ],
   "source": [
    "print(\"Dimensions for test data:\", test_data.shape)\n",
    "print(\"Dimensions for training data:\", train_data.shape,\"\\n\")\n",
    "print(\"First 5 rows in test dataset: \\n\", test_data.head(),\"\\n\")\n",
    "print(\"First 5 rows in  training dataset: \\n\", train_data.head())"
   ]
  },
  {
   "cell_type": "code",
   "execution_count": 37,
   "metadata": {
    "id": "T7NAKFd9XusN"
   },
   "outputs": [],
   "source": [
    "test_reviews = np.array(test_data['Text'])\n",
    "test_polarity = np.array(test_data['Polarity'])\n",
    "\n",
    "train_reviews = np.array(train_data['Text'])\n",
    "train_polarity = np.array(train_data['Polarity'])"
   ]
  },
  {
   "cell_type": "markdown",
   "metadata": {
    "id": "G1wVvjQ2XusO"
   },
   "source": [
    "Normalize the text for reviews and name the normalized corpora of review texts **normalized_test_reviews** and **normalized_train_reviews**:"
   ]
  },
  {
   "cell_type": "code",
   "execution_count": 38,
   "metadata": {
    "id": "iEkj0UHAXusO"
   },
   "outputs": [],
   "source": [
    "normalized_test_reviews = normalize_corpus(test_reviews)\n",
    "normalized_train_reviews = normalize_corpus(train_reviews)"
   ]
  },
  {
   "cell_type": "markdown",
   "metadata": {
    "id": "HcKFxryfXusO"
   },
   "source": [
    "## **Lexicon-Based Sentiment Analysis (Unsupervised Machine Learning)**\n",
    "\n"
   ]
  },
  {
   "cell_type": "code",
   "execution_count": 39,
   "metadata": {
    "colab": {
     "base_uri": "https://localhost:8080/"
    },
    "id": "A9-gW90kXusP",
    "outputId": "bf241e2d-99b2-4b5b-a86a-062ddcf97ac3"
   },
   "outputs": [
    {
     "name": "stderr",
     "output_type": "stream",
     "text": [
      "[nltk_data] Downloading package vader_lexicon to\n",
      "[nltk_data]     C:\\Users\\xiong\\AppData\\Roaming\\nltk_data...\n",
      "[nltk_data]   Package vader_lexicon is already up-to-date!\n"
     ]
    },
    {
     "data": {
      "text/plain": [
       "True"
      ]
     },
     "execution_count": 39,
     "metadata": {},
     "output_type": "execute_result"
    }
   ],
   "source": [
    "nltk.download('vader_lexicon')"
   ]
  },
  {
   "cell_type": "code",
   "execution_count": 40,
   "metadata": {
    "colab": {
     "base_uri": "https://localhost:8080/"
    },
    "id": "KrQtykvEXusP",
    "outputId": "57c32561-7a4c-4719-e99e-8c10f3ce2d4d"
   },
   "outputs": [],
   "source": [
    "from nltk.sentiment.vader import SentimentIntensityAnalyzer\n",
    "analyzer = SentimentIntensityAnalyzer()"
   ]
  },
  {
   "cell_type": "code",
   "execution_count": 41,
   "metadata": {
    "id": "ymag3OUBXusQ"
   },
   "outputs": [],
   "source": [
    "text_1a = 'I like this brand a lot'\n",
    "text_1b = 'I love the function of it'\n",
    "text_2a = 'Not sure if this was an error or if the vendor intended to represent the product as \"Jumbo\".'\n",
    "text_2b = 'I hate the plot of this product :('"
   ]
  },
  {
   "cell_type": "code",
   "execution_count": 42,
   "metadata": {
    "colab": {
     "base_uri": "https://localhost:8080/"
    },
    "id": "nsLgMOMyXusQ",
    "outputId": "121da13b-9eae-4640-b6d3-3c8fe48f03dd"
   },
   "outputs": [
    {
     "name": "stdout",
     "output_type": "stream",
     "text": [
      "I like this brand a lot \n",
      "Scores: {'neg': 0.0, 'neu': 0.545, 'pos': 0.455, 'compound': 0.3612} \n",
      "\n",
      "I love the function of it \n",
      "Scores: {'neg': 0.0, 'neu': 0.488, 'pos': 0.512, 'compound': 0.6369} \n",
      "\n",
      "Not sure if this was an error or if the vendor intended to represent the product as \"Jumbo\". \n",
      "Scores: {'neg': 0.226, 'neu': 0.774, 'pos': 0.0, 'compound': -0.5664} \n",
      "\n",
      "I hate the plot of this product :( \n",
      "Scores: {'neg': 0.569, 'neu': 0.431, 'pos': 0.0, 'compound': -0.765} \n",
      "\n"
     ]
    }
   ],
   "source": [
    "print(text_1a, \"\\nScores:\", analyzer.polarity_scores(text_1a),\"\\n\")\n",
    "print(text_1b, \"\\nScores:\", analyzer.polarity_scores(text_1b),\"\\n\")\n",
    "print(text_2a, \"\\nScores:\", analyzer.polarity_scores(text_2a),\"\\n\")\n",
    "print(text_2b, \"\\nScores:\", analyzer.polarity_scores(text_2b),\"\\n\")"
   ]
  },
  {
   "cell_type": "markdown",
   "metadata": {
    "id": "iAwnXxu2XusQ"
   },
   "source": [
    "\n",
    "### **VADER Lexicon-Based Sentiment Analysis of Food Reviews**\n"
   ]
  },
  {
   "cell_type": "code",
   "execution_count": 43,
   "metadata": {
    "colab": {
     "base_uri": "https://localhost:8080/"
    },
    "id": "vRuO1mBCXusR",
    "outputId": "8bc0bf34-d420-4080-b5c7-9c97e5871ff8"
   },
   "outputs": [
    {
     "name": "stdout",
     "output_type": "stream",
     "text": [
      "Review:-\n",
      "i will definitely have to say this tea works if you want to suppress your appetite. I had this tea in the morning with my breakfast. I noticed that it doesn't seem to mix well with eating. It makes me feel wayy full after eating a normal breakfast. The tea takes about an hour to actually take any effects on me, but it gives me a lot of energy and no appetite! So, i would say eat a smaller meal with this tea, otherwise it will make you sick. Overall, it is a good tea and does what it says!\n",
      "Actual Labeled Sentiment: positive\n",
      "\n",
      "Review:-\n",
      "I have tried every rice milk available and this one is quite easily the best of all. Made from wholegrain, brown rice - it is perfect in  smoothy or bowl of cereal.\n",
      "Actual Labeled Sentiment: positive\n",
      "\n"
     ]
    }
   ],
   "source": [
    "sample_docs = [100, 700] #indecies for 2 sample documnets \n",
    "\n",
    "for doc_index in sample_docs:\n",
    "    print('Review:-')\n",
    "    print(test_reviews[doc_index])\n",
    "    print('Actual Labeled Sentiment:', test_polarity[doc_index])\n",
    "    print()"
   ]
  },
  {
   "cell_type": "code",
   "execution_count": 121,
   "metadata": {
    "id": "QDY9IHMJXusR"
   },
   "outputs": [],
   "source": [
    "def analyze_sentiment_vader_lexicon(review, threshold = 0.1, verbose = False):\n",
    "    scores = analyzer.polarity_scores(review)  \n",
    "    binary_sentiment = 'positive' if scores['compound'] >= threshold else 'negative'\n",
    "    if verbose:                             \n",
    "        print('VADER Polarity (Binary):', binary_sentiment)\n",
    "        print('VADER Score:', round(scores['compound'], 2))\n",
    "    return binary_sentiment,scores['compound']  "
   ]
  },
  {
   "cell_type": "code",
   "execution_count": 122,
   "metadata": {
    "colab": {
     "base_uri": "https://localhost:8080/"
    },
    "id": "vpcK6-SNXusR",
    "outputId": "802abb07-3bda-4c7c-ab64-dbadb4e594e9"
   },
   "outputs": [
    {
     "name": "stdout",
     "output_type": "stream",
     "text": [
      "\n",
      "Review text:\n",
      "\n",
      "i will definitely have to say this tea works if you want to suppress your appetite. I had this tea in the morning with my breakfast. I noticed that it doesn't seem to mix well with eating. It makes me feel wayy full after eating a normal breakfast. The tea takes about an hour to actually take any effects on me, but it gives me a lot of energy and no appetite! So, i would say eat a smaller meal with this tea, otherwise it will make you sick. Overall, it is a good tea and does what it says! \n",
      "\n",
      "ACTUAL Polarity (Labeled by Human): positive \n",
      "\n",
      "VADER Polarity (Binary): positive\n",
      "VADER Score: 0.7\n",
      "------------------------------------------------------------\n",
      "\n",
      "Review text:\n",
      "\n",
      "I have tried every rice milk available and this one is quite easily the best of all. Made from wholegrain, brown rice - it is perfect in  smoothy or bowl of cereal. \n",
      "\n",
      "ACTUAL Polarity (Labeled by Human): positive \n",
      "\n",
      "VADER Polarity (Binary): positive\n",
      "VADER Score: 0.9\n",
      "------------------------------------------------------------\n"
     ]
    }
   ],
   "source": [
    "for doc_index in sample_docs:\n",
    "    print('\\nReview text:\\n')\n",
    "    print(test_reviews[doc_index],\"\\n\")\n",
    "    print('ACTUAL Polarity (Labeled by Human):', test_polarity[doc_index],\"\\n\")    \n",
    "    final_sentiment = analyze_sentiment_vader_lexicon(normalized_test_reviews[doc_index],\n",
    "                                                        threshold=0.1,\n",
    "                                                        verbose=True)\n",
    "    print('-'*60)  "
   ]
  },
  {
   "cell_type": "code",
   "execution_count": 154,
   "metadata": {},
   "outputs": [
    {
     "data": {
      "text/html": [
       "<div>\n",
       "<style scoped>\n",
       "    .dataframe tbody tr th:only-of-type {\n",
       "        vertical-align: middle;\n",
       "    }\n",
       "\n",
       "    .dataframe tbody tr th {\n",
       "        vertical-align: top;\n",
       "    }\n",
       "\n",
       "    .dataframe thead th {\n",
       "        text-align: right;\n",
       "    }\n",
       "</style>\n",
       "<table border=\"1\" class=\"dataframe\">\n",
       "  <thead>\n",
       "    <tr style=\"text-align: right;\">\n",
       "      <th></th>\n",
       "      <th>index</th>\n",
       "      <th>Text</th>\n",
       "      <th>Polarity</th>\n",
       "      <th>vader_sentiment</th>\n",
       "    </tr>\n",
       "  </thead>\n",
       "  <tbody>\n",
       "    <tr>\n",
       "      <th>0</th>\n",
       "      <td>110492</td>\n",
       "      <td>My husband loves these. They are easy to make ...</td>\n",
       "      <td>positive</td>\n",
       "      <td>positive</td>\n",
       "    </tr>\n",
       "    <tr>\n",
       "      <th>1</th>\n",
       "      <td>367763</td>\n",
       "      <td>This is by far the best coconut oil ever.....i...</td>\n",
       "      <td>positive</td>\n",
       "      <td>positive</td>\n",
       "    </tr>\n",
       "    <tr>\n",
       "      <th>2</th>\n",
       "      <td>176564</td>\n",
       "      <td>My toddler loves this stuff!  It's a great way...</td>\n",
       "      <td>positive</td>\n",
       "      <td>positive</td>\n",
       "    </tr>\n",
       "    <tr>\n",
       "      <th>3</th>\n",
       "      <td>179626</td>\n",
       "      <td>These are not soft shortbread cookies but Krun...</td>\n",
       "      <td>positive</td>\n",
       "      <td>positive</td>\n",
       "    </tr>\n",
       "    <tr>\n",
       "      <th>4</th>\n",
       "      <td>457517</td>\n",
       "      <td>I fell in love with Glutino stick pretzels whe...</td>\n",
       "      <td>positive</td>\n",
       "      <td>positive</td>\n",
       "    </tr>\n",
       "    <tr>\n",
       "      <th>...</th>\n",
       "      <td>...</td>\n",
       "      <td>...</td>\n",
       "      <td>...</td>\n",
       "      <td>...</td>\n",
       "    </tr>\n",
       "    <tr>\n",
       "      <th>9995</th>\n",
       "      <td>39696</td>\n",
       "      <td>Of course, my cats deserve only the best so I ...</td>\n",
       "      <td>positive</td>\n",
       "      <td>positive</td>\n",
       "    </tr>\n",
       "    <tr>\n",
       "      <th>9996</th>\n",
       "      <td>324018</td>\n",
       "      <td>I've tasted worse things but I would not buy t...</td>\n",
       "      <td>negtive</td>\n",
       "      <td>negative</td>\n",
       "    </tr>\n",
       "    <tr>\n",
       "      <th>9997</th>\n",
       "      <td>164105</td>\n",
       "      <td>This tea is the greatest....not only in taste ...</td>\n",
       "      <td>positive</td>\n",
       "      <td>positive</td>\n",
       "    </tr>\n",
       "    <tr>\n",
       "      <th>9998</th>\n",
       "      <td>135846</td>\n",
       "      <td>These Riga sprats are hard to find, but well w...</td>\n",
       "      <td>positive</td>\n",
       "      <td>positive</td>\n",
       "    </tr>\n",
       "    <tr>\n",
       "      <th>9999</th>\n",
       "      <td>76599</td>\n",
       "      <td>My Husband is a Starbucks only person.  He tas...</td>\n",
       "      <td>positive</td>\n",
       "      <td>positive</td>\n",
       "    </tr>\n",
       "  </tbody>\n",
       "</table>\n",
       "<p>10000 rows × 4 columns</p>\n",
       "</div>"
      ],
      "text/plain": [
       "       index                                               Text  Polarity  \\\n",
       "0     110492  My husband loves these. They are easy to make ...  positive   \n",
       "1     367763  This is by far the best coconut oil ever.....i...  positive   \n",
       "2     176564  My toddler loves this stuff!  It's a great way...  positive   \n",
       "3     179626  These are not soft shortbread cookies but Krun...  positive   \n",
       "4     457517  I fell in love with Glutino stick pretzels whe...  positive   \n",
       "...      ...                                                ...       ...   \n",
       "9995   39696  Of course, my cats deserve only the best so I ...  positive   \n",
       "9996  324018  I've tasted worse things but I would not buy t...   negtive   \n",
       "9997  164105  This tea is the greatest....not only in taste ...  positive   \n",
       "9998  135846  These Riga sprats are hard to find, but well w...  positive   \n",
       "9999   76599  My Husband is a Starbucks only person.  He tas...  positive   \n",
       "\n",
       "     vader_sentiment  \n",
       "0           positive  \n",
       "1           positive  \n",
       "2           positive  \n",
       "3           positive  \n",
       "4           positive  \n",
       "...              ...  \n",
       "9995        positive  \n",
       "9996        negative  \n",
       "9997        positive  \n",
       "9998        positive  \n",
       "9999        positive  \n",
       "\n",
       "[10000 rows x 4 columns]"
      ]
     },
     "execution_count": 154,
     "metadata": {},
     "output_type": "execute_result"
    }
   ],
   "source": []
  },
  {
   "cell_type": "markdown",
   "metadata": {
    "id": "O_eB-wqvXusS"
   },
   "source": [
    "Let's score now all food reviews in the **test** dataset:"
   ]
  },
  {
   "cell_type": "code",
   "execution_count": 165,
   "metadata": {
    "colab": {
     "base_uri": "https://localhost:8080/",
     "height": 206
    },
    "id": "QDKHxEusXusS",
    "outputId": "d6374d74-9f4b-4f62-b14c-9940d179eb3f"
   },
   "outputs": [
    {
     "data": {
      "text/html": [
       "<div>\n",
       "<style scoped>\n",
       "    .dataframe tbody tr th:only-of-type {\n",
       "        vertical-align: middle;\n",
       "    }\n",
       "\n",
       "    .dataframe tbody tr th {\n",
       "        vertical-align: top;\n",
       "    }\n",
       "\n",
       "    .dataframe thead th {\n",
       "        text-align: right;\n",
       "    }\n",
       "</style>\n",
       "<table border=\"1\" class=\"dataframe\">\n",
       "  <thead>\n",
       "    <tr style=\"text-align: right;\">\n",
       "      <th></th>\n",
       "      <th>VADER Polarity</th>\n",
       "      <th>VADER Score</th>\n",
       "    </tr>\n",
       "  </thead>\n",
       "  <tbody>\n",
       "    <tr>\n",
       "      <th>0</th>\n",
       "      <td>positive</td>\n",
       "      <td>0.9571</td>\n",
       "    </tr>\n",
       "    <tr>\n",
       "      <th>1</th>\n",
       "      <td>positive</td>\n",
       "      <td>0.8800</td>\n",
       "    </tr>\n",
       "    <tr>\n",
       "      <th>2</th>\n",
       "      <td>positive</td>\n",
       "      <td>0.9059</td>\n",
       "    </tr>\n",
       "    <tr>\n",
       "      <th>3</th>\n",
       "      <td>positive</td>\n",
       "      <td>0.7684</td>\n",
       "    </tr>\n",
       "    <tr>\n",
       "      <th>4</th>\n",
       "      <td>positive</td>\n",
       "      <td>0.9918</td>\n",
       "    </tr>\n",
       "  </tbody>\n",
       "</table>\n",
       "</div>"
      ],
      "text/plain": [
       "  VADER Polarity  VADER Score\n",
       "0       positive       0.9571\n",
       "1       positive       0.8800\n",
       "2       positive       0.9059\n",
       "3       positive       0.7684\n",
       "4       positive       0.9918"
      ]
     },
     "execution_count": 165,
     "metadata": {},
     "output_type": "execute_result"
    }
   ],
   "source": [
    "VADER_polarity_test = [analyze_sentiment_vader_lexicon(review, threshold=0.1) for review in test_reviews]\n",
    "VADER_polarity_test_df = pd.DataFrame(VADER_polarity_test, columns = ['VADER Polarity','VADER Score'])\n",
    "VADER_polarity_test_df.head()\n"
   ]
  },
  {
   "cell_type": "code",
   "execution_count": 166,
   "metadata": {},
   "outputs": [
    {
     "ename": "ValueError",
     "evalue": "cannot insert level_0, already exists",
     "output_type": "error",
     "traceback": [
      "\u001b[1;31m---------------------------------------------------------------------------\u001b[0m",
      "\u001b[1;31mValueError\u001b[0m                                Traceback (most recent call last)",
      "\u001b[1;32m~\\AppData\\Local\\Temp/ipykernel_41364/4209984037.py\u001b[0m in \u001b[0;36m<module>\u001b[1;34m\u001b[0m\n\u001b[1;32m----> 1\u001b[1;33m \u001b[0mtest_data\u001b[0m\u001b[1;33m=\u001b[0m\u001b[0mtest_data\u001b[0m\u001b[1;33m.\u001b[0m\u001b[0mreset_index\u001b[0m\u001b[1;33m(\u001b[0m\u001b[1;33m)\u001b[0m\u001b[1;33m\u001b[0m\u001b[1;33m\u001b[0m\u001b[0m\n\u001b[0m\u001b[0;32m      2\u001b[0m \u001b[0mtest_data\u001b[0m\u001b[1;33m[\u001b[0m\u001b[1;34m'vader_sentiment'\u001b[0m\u001b[1;33m]\u001b[0m\u001b[1;33m=\u001b[0m\u001b[0mVADER_polarity_test_df\u001b[0m\u001b[1;33m[\u001b[0m\u001b[1;34m'VADER Polarity'\u001b[0m\u001b[1;33m]\u001b[0m\u001b[1;33m\u001b[0m\u001b[1;33m\u001b[0m\u001b[0m\n",
      "\u001b[1;32m~\\anaconda3\\lib\\site-packages\\pandas\\util\\_decorators.py\u001b[0m in \u001b[0;36mwrapper\u001b[1;34m(*args, **kwargs)\u001b[0m\n\u001b[0;32m    309\u001b[0m                     \u001b[0mstacklevel\u001b[0m\u001b[1;33m=\u001b[0m\u001b[0mstacklevel\u001b[0m\u001b[1;33m,\u001b[0m\u001b[1;33m\u001b[0m\u001b[1;33m\u001b[0m\u001b[0m\n\u001b[0;32m    310\u001b[0m                 )\n\u001b[1;32m--> 311\u001b[1;33m             \u001b[1;32mreturn\u001b[0m \u001b[0mfunc\u001b[0m\u001b[1;33m(\u001b[0m\u001b[1;33m*\u001b[0m\u001b[0margs\u001b[0m\u001b[1;33m,\u001b[0m \u001b[1;33m**\u001b[0m\u001b[0mkwargs\u001b[0m\u001b[1;33m)\u001b[0m\u001b[1;33m\u001b[0m\u001b[1;33m\u001b[0m\u001b[0m\n\u001b[0m\u001b[0;32m    312\u001b[0m \u001b[1;33m\u001b[0m\u001b[0m\n\u001b[0;32m    313\u001b[0m         \u001b[1;32mreturn\u001b[0m \u001b[0mwrapper\u001b[0m\u001b[1;33m\u001b[0m\u001b[1;33m\u001b[0m\u001b[0m\n",
      "\u001b[1;32m~\\anaconda3\\lib\\site-packages\\pandas\\core\\frame.py\u001b[0m in \u001b[0;36mreset_index\u001b[1;34m(self, level, drop, inplace, col_level, col_fill)\u001b[0m\n\u001b[0;32m   5797\u001b[0m                     )\n\u001b[0;32m   5798\u001b[0m \u001b[1;33m\u001b[0m\u001b[0m\n\u001b[1;32m-> 5799\u001b[1;33m                 \u001b[0mnew_obj\u001b[0m\u001b[1;33m.\u001b[0m\u001b[0minsert\u001b[0m\u001b[1;33m(\u001b[0m\u001b[1;36m0\u001b[0m\u001b[1;33m,\u001b[0m \u001b[0mname\u001b[0m\u001b[1;33m,\u001b[0m \u001b[0mlevel_values\u001b[0m\u001b[1;33m)\u001b[0m\u001b[1;33m\u001b[0m\u001b[1;33m\u001b[0m\u001b[0m\n\u001b[0m\u001b[0;32m   5800\u001b[0m \u001b[1;33m\u001b[0m\u001b[0m\n\u001b[0;32m   5801\u001b[0m         \u001b[0mnew_obj\u001b[0m\u001b[1;33m.\u001b[0m\u001b[0mindex\u001b[0m \u001b[1;33m=\u001b[0m \u001b[0mnew_index\u001b[0m\u001b[1;33m\u001b[0m\u001b[1;33m\u001b[0m\u001b[0m\n",
      "\u001b[1;32m~\\anaconda3\\lib\\site-packages\\pandas\\core\\frame.py\u001b[0m in \u001b[0;36minsert\u001b[1;34m(self, loc, column, value, allow_duplicates)\u001b[0m\n\u001b[0;32m   4412\u001b[0m         \u001b[1;32mif\u001b[0m \u001b[1;32mnot\u001b[0m \u001b[0mallow_duplicates\u001b[0m \u001b[1;32mand\u001b[0m \u001b[0mcolumn\u001b[0m \u001b[1;32min\u001b[0m \u001b[0mself\u001b[0m\u001b[1;33m.\u001b[0m\u001b[0mcolumns\u001b[0m\u001b[1;33m:\u001b[0m\u001b[1;33m\u001b[0m\u001b[1;33m\u001b[0m\u001b[0m\n\u001b[0;32m   4413\u001b[0m             \u001b[1;31m# Should this be a different kind of error??\u001b[0m\u001b[1;33m\u001b[0m\u001b[1;33m\u001b[0m\u001b[0m\n\u001b[1;32m-> 4414\u001b[1;33m             \u001b[1;32mraise\u001b[0m \u001b[0mValueError\u001b[0m\u001b[1;33m(\u001b[0m\u001b[1;34mf\"cannot insert {column}, already exists\"\u001b[0m\u001b[1;33m)\u001b[0m\u001b[1;33m\u001b[0m\u001b[1;33m\u001b[0m\u001b[0m\n\u001b[0m\u001b[0;32m   4415\u001b[0m         \u001b[1;32mif\u001b[0m \u001b[1;32mnot\u001b[0m \u001b[0misinstance\u001b[0m\u001b[1;33m(\u001b[0m\u001b[0mloc\u001b[0m\u001b[1;33m,\u001b[0m \u001b[0mint\u001b[0m\u001b[1;33m)\u001b[0m\u001b[1;33m:\u001b[0m\u001b[1;33m\u001b[0m\u001b[1;33m\u001b[0m\u001b[0m\n\u001b[0;32m   4416\u001b[0m             \u001b[1;32mraise\u001b[0m \u001b[0mTypeError\u001b[0m\u001b[1;33m(\u001b[0m\u001b[1;34m\"loc must be int\"\u001b[0m\u001b[1;33m)\u001b[0m\u001b[1;33m\u001b[0m\u001b[1;33m\u001b[0m\u001b[0m\n",
      "\u001b[1;31mValueError\u001b[0m: cannot insert level_0, already exists"
     ]
    }
   ],
   "source": [
    "test_data=test_data.reset_index()\n",
    "test_data['vader_sentiment']=VADER_polarity_test_df['VADER Polarity']\n"
   ]
  },
  {
   "cell_type": "code",
   "execution_count": 47,
   "metadata": {
    "colab": {
     "base_uri": "https://localhost:8080/"
    },
    "id": "RuYge4PJXusS",
    "outputId": "12b38316-7953-41ee-8849-d0708f6478b0"
   },
   "outputs": [
    {
     "name": "stdout",
     "output_type": "stream",
     "text": [
      "Accuracy Rate: 0.73 \n",
      "\n"
     ]
    }
   ],
   "source": [
    "from sklearn import metrics\n",
    "print('Accuracy Rate:', np.round(metrics.accuracy_score(test_polarity, \n",
    "                                 VADER_polarity_test_df['VADER Polarity']), 3),\"\\n\")"
   ]
  },
  {
   "cell_type": "code",
   "execution_count": 49,
   "metadata": {
    "colab": {
     "base_uri": "https://localhost:8080/",
     "height": 175
    },
    "id": "oJcgcbFuXusT",
    "outputId": "610479f7-4ae6-4b7f-83b4-0f0db2414933"
   },
   "outputs": [
    {
     "data": {
      "text/html": [
       "<div>\n",
       "<style scoped>\n",
       "    .dataframe tbody tr th:only-of-type {\n",
       "        vertical-align: middle;\n",
       "    }\n",
       "\n",
       "    .dataframe tbody tr th {\n",
       "        vertical-align: top;\n",
       "    }\n",
       "\n",
       "    .dataframe thead th {\n",
       "        text-align: right;\n",
       "    }\n",
       "</style>\n",
       "<table border=\"1\" class=\"dataframe\">\n",
       "  <thead>\n",
       "    <tr style=\"text-align: right;\">\n",
       "      <th>Predicted:</th>\n",
       "      <th>negative</th>\n",
       "      <th>positive</th>\n",
       "      <th>All</th>\n",
       "    </tr>\n",
       "    <tr>\n",
       "      <th>True:</th>\n",
       "      <th></th>\n",
       "      <th></th>\n",
       "      <th></th>\n",
       "    </tr>\n",
       "  </thead>\n",
       "  <tbody>\n",
       "    <tr>\n",
       "      <th>negtive</th>\n",
       "      <td>895</td>\n",
       "      <td>1387</td>\n",
       "      <td>2282</td>\n",
       "    </tr>\n",
       "    <tr>\n",
       "      <th>positive</th>\n",
       "      <td>415</td>\n",
       "      <td>7303</td>\n",
       "      <td>7718</td>\n",
       "    </tr>\n",
       "    <tr>\n",
       "      <th>All</th>\n",
       "      <td>1310</td>\n",
       "      <td>8690</td>\n",
       "      <td>10000</td>\n",
       "    </tr>\n",
       "  </tbody>\n",
       "</table>\n",
       "</div>"
      ],
      "text/plain": [
       "Predicted:  negative  positive    All\n",
       "True:                                \n",
       "negtive          895      1387   2282\n",
       "positive         415      7303   7718\n",
       "All             1310      8690  10000"
      ]
     },
     "execution_count": 49,
     "metadata": {},
     "output_type": "execute_result"
    }
   ],
   "source": [
    "pd.crosstab(pd.Series(test_polarity), \n",
    "            pd.Series(VADER_polarity_test_df['VADER Polarity']), \n",
    "            rownames = ['True:'], \n",
    "            colnames = ['Predicted:'], \n",
    "            margins = True)"
   ]
  },
  {
   "cell_type": "markdown",
   "metadata": {
    "id": "ey1SwYUvXusU"
   },
   "source": [
    "Have a look at raw VADER scores assigned to actual positive reviews (we sort the reviews by the VADER score in a decreasing order):"
   ]
  },
  {
   "cell_type": "code",
   "execution_count": 50,
   "metadata": {
    "colab": {
     "base_uri": "https://localhost:8080/",
     "height": 310
    },
    "id": "QUaH7wxCXusU",
    "outputId": "e49e3eba-9910-4cfb-94b8-b0388ac2ee5f"
   },
   "outputs": [
    {
     "data": {
      "image/png": "[encoded data removed]",
      "text/plain": [
       "<Figure size 432x288 with 1 Axes>"
      ]
     },
     "metadata": {
      "needs_background": "light"
     },
     "output_type": "display_data"
    }
   ],
   "source": [
    "import matplotlib.pyplot as plt\n",
    "\n",
    "pos_reviews_scored = VADER_polarity_test_df[:500]['VADER Score']\n",
    "plt.bar(range(0, 500), pos_reviews_scored.sort_values(ascending=False))\n",
    "plt.xlabel(\"Reviews with positive ACTUAL polarity\")\n",
    "plt.ylabel(\"VADER Score\")\n",
    "plt.title(\"VADER Scores for ACTUAL Positive Reviews \\n (in decreasing order of VADER scores)\")\n",
    "plt.show()"
   ]
  },
  {
   "cell_type": "markdown",
   "metadata": {
    "id": "werZ8J6mXusU"
   },
   "source": [
    "Now, have a look at VADER scores assigned to actual negative reviews (we sort the reviews by the VADER score in a decreasing order):"
   ]
  },
  {
   "cell_type": "code",
   "execution_count": 51,
   "metadata": {
    "colab": {
     "base_uri": "https://localhost:8080/",
     "height": 310
    },
    "id": "QH7ND7eKXusU",
    "outputId": "703f3da6-cd18-4bec-dbf7-3847fb8f404a"
   },
   "outputs": [
    {
     "data": {
      "image/png": "[encoded data removed]",
      "text/plain": [
       "<Figure size 432x288 with 1 Axes>"
      ]
     },
     "metadata": {
      "needs_background": "light"
     },
     "output_type": "display_data"
    }
   ],
   "source": [
    "neg_reviews_scored = VADER_polarity_test_df[500:1000]['VADER Score']\n",
    "plt.bar(range(0, 500), neg_reviews_scored.sort_values(ascending=True))\n",
    "plt.xlabel(\"Reviews with negative ACTUAL polarity\")\n",
    "plt.ylabel(\"VADER score\")\n",
    "plt.title(\"VADER Scores for ACTUAL Negative Reviews \\n (in ascending order of VADER scores)\")\n",
    "plt.show()"
   ]
  },
  {
   "cell_type": "code",
   "execution_count": 52,
   "metadata": {
    "id": "-fTfR1WCXusV"
   },
   "outputs": [],
   "source": [
    "def try_threshold_for_accuracy(sentiment_scores, threshold_for_pos):\n",
    "    VADER_binary_polarity = ['positive' if s >= threshold_for_pos else 'negative' for s in list(sentiment_scores)]\n",
    "    accuracy = metrics.accuracy_score(test_polarity, VADER_binary_polarity)\n",
    "    return(accuracy) "
   ]
  },
  {
   "cell_type": "markdown",
   "metadata": {
    "id": "ywqtHmASXusV"
   },
   "source": [
    "Let's apply this function to score the food reviews using the threshold value = 0.05:"
   ]
  },
  {
   "cell_type": "code",
   "execution_count": 53,
   "metadata": {
    "colab": {
     "base_uri": "https://localhost:8080/"
    },
    "id": "AxQ0iPs9XusV",
    "outputId": "c0f0de86-7f31-4575-b3b8-bd2299a6f9a3"
   },
   "outputs": [
    {
     "name": "stdout",
     "output_type": "stream",
     "text": [
      "Accuracy rate:  0.7331\n"
     ]
    }
   ],
   "source": [
    "threshold = 0.05\n",
    "print(\"Accuracy rate: \", try_threshold_for_accuracy(VADER_polarity_test_df['VADER Score'],threshold))"
   ]
  },
  {
   "cell_type": "markdown",
   "metadata": {
    "id": "ut7awAo5XusW"
   },
   "source": [
    "Now, let's explore the changes in accuracy rate for a range of thresholds from -1 to 1 (that is VADER score's range):"
   ]
  },
  {
   "cell_type": "code",
   "execution_count": 54,
   "metadata": {
    "colab": {
     "base_uri": "https://localhost:8080/",
     "height": 325
    },
    "id": "ruL8WLyKXusW",
    "outputId": "c5117eeb-bfa4-4920-d5a6-60b2e659631d"
   },
   "outputs": [
    {
     "data": {
      "image/png": "[encoded data removed]",
      "text/plain": [
       "<Figure size 432x288 with 1 Axes>"
      ]
     },
     "metadata": {
      "needs_background": "light"
     },
     "output_type": "display_data"
    }
   ],
   "source": [
    "thresholds = np.linspace(-1,1,1000)\n",
    "acc_rates = [try_threshold_for_accuracy(VADER_polarity_test_df['VADER Score'],threshold) for threshold in thresholds]\n",
    "\n",
    "plt.plot(thresholds, acc_rates)\n",
    "plt.xlabel(\"Threshold score for positive (binary) sentiment polarity\")\n",
    "plt.ylabel(\"Accuracy rate\")\n",
    "plt.title(\"Accuracy Rate of Sentiment Polarity Prediction \\n as a Function of Threshold for VADER Scores \\n\")\n",
    "plt.show()"
   ]
  },
  {
   "cell_type": "code",
   "execution_count": null,
   "metadata": {},
   "outputs": [],
   "source": []
  }
 ],
 "metadata": {
  "colab": {
   "name": "Lab_5_Sentiment_Analysis_ANSWERS.ipynb",
   "provenance": []
  },
  "kernelspec": {
   "display_name": "Python 3 (ipykernel)",
   "language": "python",
   "name": "python3"
  },
  "language_info": {
   "codemirror_mode": {
    "name": "ipython",
    "version": 3
   },
   "file_extension": ".py",
   "mimetype": "text/x-python",
   "name": "python",
   "nbconvert_exporter": "python",
   "pygments_lexer": "ipython3",
   "version": "3.9.7"
  }
 },
 "nbformat": 4,
 "nbformat_minor": 1
}
